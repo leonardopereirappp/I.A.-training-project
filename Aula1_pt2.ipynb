{
 "cells": [
  {
   "cell_type": "markdown",
   "id": "15736f5f-78ff-42d7-8a92-36a2f38e9cc7",
   "metadata": {},
   "source": [
    "Arquivo Deploy"
   ]
  },
  {
   "cell_type": "code",
   "execution_count": 2,
   "id": "0c24af1f-f305-49dd-9866-db1a814600aa",
   "metadata": {},
   "outputs": [],
   "source": [
    "import pandas as pd\n",
    "import streamlit as st\n",
    "import joblib\n",
    "\n"
   ]
  },
  {
   "cell_type": "markdown",
   "id": "228c1ec1-3caa-43f8-86a5-d89a83e9ffd5",
   "metadata": {},
   "source": [
    "Separa essa lista em 3 categorias: Nums, Booleans e Listas\n",
    "['host_is_superhost', 'host_listings_count', 'latitude', 'longitude',\n",
    "       'accommodates', 'bathrooms', 'bedrooms', 'beds', 'price',\n",
    "       'extra_people', 'minimum_nights', 'instant_bookable',\n",
    "       'is_business_travel_ready', 'ano', 'mes', 'n_amenities',\n",
    "       'property_type_Apartment', 'property_type_Bed and breakfast',\n",
    "       'property_type_Condominium', 'property_type_Guest suite',\n",
    "       'property_type_Guesthouse', 'property_type_Hostel',\n",
    "       'property_type_House', 'property_type_Loft', 'property_type_Outros',\n",
    "       'property_type_Serviced apartment', 'room_type_Entire home/apt',\n",
    "       'room_type_Hotel room', 'room_type_Private room',\n",
    "       'room_type_Shared room', 'cancellation_policy_flexible',\n",
    "       'cancellation_policy_moderate',\n",
    "       'cancellation_policy_strict_14_with_grace_period',\n",
    "       'cancellation_policy_stricts'],"
   ]
  },
  {
   "cell_type": "code",
   "execution_count": 3,
   "id": "bd6b418d-1717-4b2c-8b41-57e059023bb1",
   "metadata": {},
   "outputs": [
    {
     "name": "stderr",
     "output_type": "stream",
     "text": [
      "2022-09-04 21:41:24.917 \n",
      "  \u001b[33m\u001b[1mWarning:\u001b[0m to view this Streamlit app on a browser, run it with the following\n",
      "  command:\n",
      "\n",
      "    streamlit run C:\\Users\\leona\\JetBrains\\venv\\lib\\site-packages\\ipykernel_launcher.py [ARGUMENTS]\n"
     ]
    }
   ],
   "source": [
    "x_numericos = {'latitude': 0, 'longitude': 0, 'accommodates': 0, 'bathrooms': 0, 'bedrooms': 0, 'beds': 0, 'extra_people': 0,\n",
    "               'minimum_nights': 0, 'ano': 0, 'mes': 0, 'n_amenities': 0, 'host_listings_count': 0}\n",
    "\n",
    "x_tf = {'host_is_superhost': 0, 'instant_bookable': 0}\n",
    "\n",
    "x_listas = {'property_type': ['Apartment', 'Bed and breakfast', 'Condominium', 'Guest suite', 'Guesthouse', 'Hostel', 'House', 'Loft', 'Outros', 'Serviced apartment'],\n",
    "            'room_type': ['Entire home/apt', 'Hotel room', 'Private room', 'Shared room'],\n",
    "            'cancelation_policy': ['flexible', 'moderate', 'strict', 'strict_14_with_grace_period']\n",
    "            }\n",
    "\n",
    "for item in x_numericos:\n",
    "    valor = st.number_input(f'{item}')\n",
    "\n",
    "for item in x_tf:\n",
    "    valor = st.selectbox(f'{item}',('Sim','Não'))\n",
    "    \n",
    "for item in x_listas:\n",
    "    valor = st.selectbox(f'{item}', x_listas[item])\n",
    "    \n",
    "botao = st.button('Prever valor do Imóvel')\n"
   ]
  },
  {
   "cell_type": "code",
   "execution_count": null,
   "id": "1245061e-31e3-42b3-acef-d5cd7a4566f9",
   "metadata": {},
   "outputs": [],
   "source": []
  },
  {
   "cell_type": "code",
   "execution_count": null,
   "id": "5e297258-a273-476f-8edb-3860b49e2490",
   "metadata": {},
   "outputs": [],
   "source": []
  },
  {
   "cell_type": "code",
   "execution_count": null,
   "id": "92d17ccf-4ab2-4a01-95db-000f0e7c44d5",
   "metadata": {},
   "outputs": [],
   "source": []
  },
  {
   "cell_type": "code",
   "execution_count": null,
   "id": "dad0455b-0788-4f78-88a7-532606e26730",
   "metadata": {},
   "outputs": [],
   "source": [
    "# modelo = joblib.load('modelo.joblib')"
   ]
  }
 ],
 "metadata": {
  "kernelspec": {
   "display_name": "Python 3 (ipykernel)",
   "language": "python",
   "name": "python3"
  },
  "language_info": {
   "codemirror_mode": {
    "name": "ipython",
    "version": 3
   },
   "file_extension": ".py",
   "mimetype": "text/x-python",
   "name": "python",
   "nbconvert_exporter": "python",
   "pygments_lexer": "ipython3",
   "version": "3.9.0"
  },
  "widgets": {
   "application/vnd.jupyter.widget-state+json": {
    "state": {},
    "version_major": 2,
    "version_minor": 0
   }
  }
 },
 "nbformat": 4,
 "nbformat_minor": 5
}
